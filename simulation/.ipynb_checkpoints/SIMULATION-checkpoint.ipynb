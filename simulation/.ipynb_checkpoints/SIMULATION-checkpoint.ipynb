{
 "cells": [
  {
   "cell_type": "code",
   "execution_count": 36,
   "id": "55533189",
   "metadata": {},
   "outputs": [],
   "source": [
    "import pandas as pd\n",
    "import functools as ft\n",
    "from sdv.lite import TabularPreset"
   ]
  },
  {
   "cell_type": "code",
   "execution_count": 26,
   "id": "7109e6d5",
   "metadata": {},
   "outputs": [],
   "source": [
    "class LightSimulation:\n",
    "    def __init__(self):\n",
    "        self.df_brightness_path = \"Room1_Brightness.csv\"\n",
    "        self.metadata = {'fields': {'Timestamp': {'type': 'numerical', 'subtype': 'integer'},\n",
    "                                    'Brightness_Lux': {'type': 'numerical', 'subtype': 'float'}},\n",
    "                            'constraints': [],\n",
    "                            'primary_key': 'Timestamp'}\n",
    "        self.device_id = 1\n",
    "        self.model_brightness = TabularPreset(name='FAST_ML', metadata=self.metadata)\n",
    "        self.get_historical_data()\n",
    "        self.train_preset_model()\n",
    "    \n",
    "    def get_historical_data(self):\n",
    "        self.df_brightness = pd.read_csv(self.df_brightness_path,sep=\"\\t\", header=None, names=['Timestamp','Brightness_Lux'])\n",
    "    \n",
    "    def train_preset_model(self):\n",
    "        self.model_brightness.fit(self.df_brightness)\n",
    "        \n",
    "    def generate_synthetic_data(self,no_of_records):\n",
    "        self.df_synthetic_brightness = self.model_brightness.sample(num_rows=no_of_records,randomize_samples=True)\n",
    "    \n",
    "    def store_synthetic_data(self):\n",
    "        self.df_synthetic_path = \"Light \"+ str(self.device_id) + \".xlsx\"\n",
    "        self.df_synthetic_brightness.to_excel(self.df_synthetic_path,index=False)\n",
    "        self.device_id = self.device_id + 1\n",
    "        return self.df_synthetic_path"
   ]
  },
  {
   "cell_type": "code",
   "execution_count": 27,
   "id": "f13b8ec7",
   "metadata": {},
   "outputs": [],
   "source": [
    "light_ob = LightSimulation()"
   ]
  },
  {
   "cell_type": "code",
   "execution_count": 34,
   "id": "27630fac",
   "metadata": {},
   "outputs": [],
   "source": [
    "light_ob.generate_synthetic_data(1000)"
   ]
  },
  {
   "cell_type": "code",
   "execution_count": 35,
   "id": "9aad6275",
   "metadata": {},
   "outputs": [
    {
     "data": {
      "text/plain": [
       "'Device 4.xlsx'"
      ]
     },
     "execution_count": 35,
     "metadata": {},
     "output_type": "execute_result"
    }
   ],
   "source": [
    "light_ob.store_synthetic_data()"
   ]
  },
  {
   "cell_type": "code",
   "execution_count": 44,
   "id": "20836a0e",
   "metadata": {},
   "outputs": [],
   "source": [
    "class ThermostatSimulation:\n",
    "    def __init__(self):\n",
    "        self.df_humidity_path = \"Room1_Humidity.csv\"\n",
    "        self.df_temperature_path = \"Room1_ThermostatTemperature.csv\"\n",
    "        self.df_outside_temperature_path = \"Room1_Virtual_OutdoorTemperature.csv\"\n",
    "        self.metadata = {'fields': {'Timestamp': {'type': 'numerical', 'subtype': 'integer'},\n",
    "                                    'Relative_Humidity_Perc': {'type': 'numerical', 'subtype': 'integer'},\n",
    "                                    'Temperature_C': {'type': 'numerical', 'subtype': 'float'},\n",
    "                                    'Outside_Temperature_C': {'type': 'numerical', 'subtype': 'float'}},\n",
    "                            'constraints': [],\n",
    "                            'primary_key': 'Timestamp'}\n",
    "        self.device_id = 1\n",
    "        self.model_thermostat = TabularPreset(name='FAST_ML', metadata=self.metadata)\n",
    "        self.get_historical_data()\n",
    "        self.train_preset_model()\n",
    "    \n",
    "    def get_historical_data(self):\n",
    "        self.df_relative_humidity = pd.read_csv(self.df_humidity_path,sep=\"\\t\", header=None, names=['Timestamp','Relative_Humidity_Perc'])\n",
    "        self.df_thermostat_temp = pd.read_csv(self.df_temperature_path,sep=\"\\t\", header=None, names=['Timestamp','Temperature_C'])\n",
    "        self.df_outside_temp = pd.read_csv(self.df_outside_temperature_path,sep=\"\\t\", header=None, names=['Timestamp','Outside_Temperature_C'])\n",
    "        dfs_thermostat = [self.df_relative_humidity, self.df_thermostat_temp, self.df_outside_temp]\n",
    "        self.df_thermostat = ft.reduce(lambda left, right: pd.merge(left, right, on='Timestamp'), dfs_thermostat)\n",
    "        \n",
    "    def train_preset_model(self):\n",
    "        self.model_thermostat.fit(self.df_thermostat)\n",
    "        \n",
    "    def generate_synthetic_data(self,no_of_records):\n",
    "        self.df_synthetic_thermostat = self.model_thermostat.sample(num_rows=no_of_records,randomize_samples=True)\n",
    "    \n",
    "    def store_synthetic_data(self):\n",
    "        self.df_synthetic_path = \"Thermostat \"+ str(self.device_id) + \".xlsx\"\n",
    "        self.df_synthetic_thermostat.to_excel(self.df_synthetic_path,index=False)\n",
    "        self.device_id = self.device_id + 1\n",
    "        return self.df_synthetic_path"
   ]
  },
  {
   "cell_type": "code",
   "execution_count": 45,
   "id": "115fc13b",
   "metadata": {},
   "outputs": [],
   "source": [
    "thermostat_ob = ThermostatSimulation()"
   ]
  },
  {
   "cell_type": "code",
   "execution_count": 46,
   "id": "d0f259df",
   "metadata": {},
   "outputs": [],
   "source": [
    "thermostat_ob.generate_synthetic_data(1000)"
   ]
  },
  {
   "cell_type": "code",
   "execution_count": 48,
   "id": "30ebd60d",
   "metadata": {},
   "outputs": [
    {
     "data": {
      "text/plain": [
       "'Thermostat 1.xlsx'"
      ]
     },
     "execution_count": 48,
     "metadata": {},
     "output_type": "execute_result"
    }
   ],
   "source": [
    "thermostat_ob.store_synthetic_data()"
   ]
  },
  {
   "cell_type": "code",
   "execution_count": 49,
   "id": "ade3ced6",
   "metadata": {},
   "outputs": [],
   "source": [
    "thermostat_ob.generate_synthetic_data(1000)"
   ]
  },
  {
   "cell_type": "code",
   "execution_count": 50,
   "id": "6abea2b3",
   "metadata": {},
   "outputs": [
    {
     "data": {
      "text/plain": [
       "'Thermostat 2.xlsx'"
      ]
     },
     "execution_count": 50,
     "metadata": {},
     "output_type": "execute_result"
    }
   ],
   "source": [
    "thermostat_ob.store_synthetic_data()"
   ]
  },
  {
   "cell_type": "code",
   "execution_count": 51,
   "id": "e143c3ef",
   "metadata": {},
   "outputs": [],
   "source": [
    "thermostat_ob.generate_synthetic_data(1000)"
   ]
  },
  {
   "cell_type": "code",
   "execution_count": 52,
   "id": "57742ed0",
   "metadata": {},
   "outputs": [
    {
     "data": {
      "text/plain": [
       "'Thermostat 3.xlsx'"
      ]
     },
     "execution_count": 52,
     "metadata": {},
     "output_type": "execute_result"
    }
   ],
   "source": [
    "thermostat_ob.store_synthetic_data()"
   ]
  }
 ],
 "metadata": {
  "kernelspec": {
   "display_name": "Python 3 (ipykernel)",
   "language": "python",
   "name": "python3"
  },
  "language_info": {
   "codemirror_mode": {
    "name": "ipython",
    "version": 3
   },
   "file_extension": ".py",
   "mimetype": "text/x-python",
   "name": "python",
   "nbconvert_exporter": "python",
   "pygments_lexer": "ipython3",
   "version": "3.9.12"
  }
 },
 "nbformat": 4,
 "nbformat_minor": 5
}
