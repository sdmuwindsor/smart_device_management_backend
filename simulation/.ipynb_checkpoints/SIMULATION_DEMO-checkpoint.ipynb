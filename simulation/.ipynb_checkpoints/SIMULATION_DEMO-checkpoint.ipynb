{
 "cells": [
  {
   "cell_type": "markdown",
   "id": "154d6e25",
   "metadata": {},
   "source": [
    "# Demonstration of Light and Thermostat Simulation"
   ]
  },
  {
   "cell_type": "markdown",
   "id": "f0c79593",
   "metadata": {},
   "source": [
    "# Light Simulation"
   ]
  },
  {
   "cell_type": "code",
   "execution_count": 1,
   "id": "72e7f2a7",
   "metadata": {},
   "outputs": [],
   "source": [
    "from LightSimulator import LightSimulation"
   ]
  },
  {
   "cell_type": "code",
   "execution_count": 2,
   "id": "f13b8ec7",
   "metadata": {},
   "outputs": [],
   "source": [
    "light_ob = LightSimulation()"
   ]
  },
  {
   "cell_type": "code",
   "execution_count": 3,
   "id": "27630fac",
   "metadata": {},
   "outputs": [],
   "source": [
    "light_ob.generate_synthetic_data(1000)"
   ]
  },
  {
   "cell_type": "code",
   "execution_count": 4,
   "id": "9aad6275",
   "metadata": {},
   "outputs": [
    {
     "data": {
      "text/plain": [
       "'Light 1.xlsx'"
      ]
     },
     "execution_count": 4,
     "metadata": {},
     "output_type": "execute_result"
    }
   ],
   "source": [
    "light_ob.store_synthetic_data()"
   ]
  },
  {
   "cell_type": "code",
   "execution_count": 5,
   "id": "c51d8ea1",
   "metadata": {},
   "outputs": [
    {
     "data": {
      "text/html": [
       "<div>\n",
       "<style scoped>\n",
       "    .dataframe tbody tr th:only-of-type {\n",
       "        vertical-align: middle;\n",
       "    }\n",
       "\n",
       "    .dataframe tbody tr th {\n",
       "        vertical-align: top;\n",
       "    }\n",
       "\n",
       "    .dataframe thead th {\n",
       "        text-align: right;\n",
       "    }\n",
       "</style>\n",
       "<table border=\"1\" class=\"dataframe\">\n",
       "  <thead>\n",
       "    <tr style=\"text-align: right;\">\n",
       "      <th></th>\n",
       "      <th>ID</th>\n",
       "      <th>Brightness_Lux</th>\n",
       "    </tr>\n",
       "  </thead>\n",
       "  <tbody>\n",
       "    <tr>\n",
       "      <th>0</th>\n",
       "      <td>0</td>\n",
       "      <td>1.83</td>\n",
       "    </tr>\n",
       "    <tr>\n",
       "      <th>1</th>\n",
       "      <td>1</td>\n",
       "      <td>0.00</td>\n",
       "    </tr>\n",
       "    <tr>\n",
       "      <th>2</th>\n",
       "      <td>2</td>\n",
       "      <td>0.92</td>\n",
       "    </tr>\n",
       "    <tr>\n",
       "      <th>3</th>\n",
       "      <td>3</td>\n",
       "      <td>2.75</td>\n",
       "    </tr>\n",
       "    <tr>\n",
       "      <th>4</th>\n",
       "      <td>4</td>\n",
       "      <td>5.49</td>\n",
       "    </tr>\n",
       "    <tr>\n",
       "      <th>5</th>\n",
       "      <td>5</td>\n",
       "      <td>8.24</td>\n",
       "    </tr>\n",
       "    <tr>\n",
       "      <th>6</th>\n",
       "      <td>6</td>\n",
       "      <td>12.82</td>\n",
       "    </tr>\n",
       "    <tr>\n",
       "      <th>7</th>\n",
       "      <td>7</td>\n",
       "      <td>20.14</td>\n",
       "    </tr>\n",
       "    <tr>\n",
       "      <th>8</th>\n",
       "      <td>8</td>\n",
       "      <td>21.97</td>\n",
       "    </tr>\n",
       "    <tr>\n",
       "      <th>9</th>\n",
       "      <td>9</td>\n",
       "      <td>28.38</td>\n",
       "    </tr>\n",
       "  </tbody>\n",
       "</table>\n",
       "</div>"
      ],
      "text/plain": [
       "   ID  Brightness_Lux\n",
       "0   0            1.83\n",
       "1   1            0.00\n",
       "2   2            0.92\n",
       "3   3            2.75\n",
       "4   4            5.49\n",
       "5   5            8.24\n",
       "6   6           12.82\n",
       "7   7           20.14\n",
       "8   8           21.97\n",
       "9   9           28.38"
      ]
     },
     "execution_count": 5,
     "metadata": {},
     "output_type": "execute_result"
    }
   ],
   "source": [
    "light_ob.df_brightness.head(10)"
   ]
  },
  {
   "cell_type": "code",
   "execution_count": 6,
   "id": "33cfc44d",
   "metadata": {},
   "outputs": [
    {
     "data": {
      "text/html": [
       "<div>\n",
       "<style scoped>\n",
       "    .dataframe tbody tr th:only-of-type {\n",
       "        vertical-align: middle;\n",
       "    }\n",
       "\n",
       "    .dataframe tbody tr th {\n",
       "        vertical-align: top;\n",
       "    }\n",
       "\n",
       "    .dataframe thead th {\n",
       "        text-align: right;\n",
       "    }\n",
       "</style>\n",
       "<table border=\"1\" class=\"dataframe\">\n",
       "  <thead>\n",
       "    <tr style=\"text-align: right;\">\n",
       "      <th></th>\n",
       "      <th>ID</th>\n",
       "      <th>Brightness_Lux</th>\n",
       "    </tr>\n",
       "  </thead>\n",
       "  <tbody>\n",
       "    <tr>\n",
       "      <th>0</th>\n",
       "      <td>0</td>\n",
       "      <td>125.829478</td>\n",
       "    </tr>\n",
       "    <tr>\n",
       "      <th>1</th>\n",
       "      <td>1</td>\n",
       "      <td>0.000000</td>\n",
       "    </tr>\n",
       "    <tr>\n",
       "      <th>2</th>\n",
       "      <td>2</td>\n",
       "      <td>97.985236</td>\n",
       "    </tr>\n",
       "    <tr>\n",
       "      <th>3</th>\n",
       "      <td>3</td>\n",
       "      <td>179.493375</td>\n",
       "    </tr>\n",
       "    <tr>\n",
       "      <th>4</th>\n",
       "      <td>4</td>\n",
       "      <td>100.772691</td>\n",
       "    </tr>\n",
       "    <tr>\n",
       "      <th>5</th>\n",
       "      <td>5</td>\n",
       "      <td>0.000000</td>\n",
       "    </tr>\n",
       "    <tr>\n",
       "      <th>6</th>\n",
       "      <td>6</td>\n",
       "      <td>82.398085</td>\n",
       "    </tr>\n",
       "    <tr>\n",
       "      <th>7</th>\n",
       "      <td>7</td>\n",
       "      <td>0.000000</td>\n",
       "    </tr>\n",
       "    <tr>\n",
       "      <th>8</th>\n",
       "      <td>8</td>\n",
       "      <td>209.200254</td>\n",
       "    </tr>\n",
       "    <tr>\n",
       "      <th>9</th>\n",
       "      <td>9</td>\n",
       "      <td>0.000000</td>\n",
       "    </tr>\n",
       "  </tbody>\n",
       "</table>\n",
       "</div>"
      ],
      "text/plain": [
       "   ID  Brightness_Lux\n",
       "0   0      125.829478\n",
       "1   1        0.000000\n",
       "2   2       97.985236\n",
       "3   3      179.493375\n",
       "4   4      100.772691\n",
       "5   5        0.000000\n",
       "6   6       82.398085\n",
       "7   7        0.000000\n",
       "8   8      209.200254\n",
       "9   9        0.000000"
      ]
     },
     "execution_count": 6,
     "metadata": {},
     "output_type": "execute_result"
    }
   ],
   "source": [
    "light_ob.df_synthetic_brightness.head(10)"
   ]
  },
  {
   "cell_type": "code",
   "execution_count": 7,
   "id": "6c865336",
   "metadata": {},
   "outputs": [],
   "source": [
    "light_ob.generate_synthetic_data(1000)"
   ]
  },
  {
   "cell_type": "code",
   "execution_count": 8,
   "id": "d0b28113",
   "metadata": {},
   "outputs": [
    {
     "data": {
      "text/plain": [
       "'Light 2.xlsx'"
      ]
     },
     "execution_count": 8,
     "metadata": {},
     "output_type": "execute_result"
    }
   ],
   "source": [
    "light_ob.store_synthetic_data()"
   ]
  },
  {
   "cell_type": "code",
   "execution_count": 9,
   "id": "e2afa92c",
   "metadata": {},
   "outputs": [],
   "source": [
    "light_ob.generate_synthetic_data(1000)"
   ]
  },
  {
   "cell_type": "code",
   "execution_count": 21,
   "id": "64527831",
   "metadata": {},
   "outputs": [
    {
     "data": {
      "text/plain": [
       "'Light 4.xlsx'"
      ]
     },
     "execution_count": 21,
     "metadata": {},
     "output_type": "execute_result"
    }
   ],
   "source": [
    "light_ob.store_synthetic_data()"
   ]
  },
  {
   "cell_type": "markdown",
   "id": "b91aabbf",
   "metadata": {},
   "source": [
    "# Thermostat Simulation"
   ]
  },
  {
   "cell_type": "code",
   "execution_count": 11,
   "id": "f2911cac",
   "metadata": {},
   "outputs": [],
   "source": [
    "from ThermostatSimulator import ThermostatSimulation"
   ]
  },
  {
   "cell_type": "code",
   "execution_count": 12,
   "id": "115fc13b",
   "metadata": {},
   "outputs": [],
   "source": [
    "thermostat_ob = ThermostatSimulation()"
   ]
  },
  {
   "cell_type": "code",
   "execution_count": 13,
   "id": "d0f259df",
   "metadata": {},
   "outputs": [],
   "source": [
    "thermostat_ob.generate_synthetic_data(1000)"
   ]
  },
  {
   "cell_type": "code",
   "execution_count": 14,
   "id": "30ebd60d",
   "metadata": {},
   "outputs": [
    {
     "data": {
      "text/plain": [
       "'Thermostat 1.xlsx'"
      ]
     },
     "execution_count": 14,
     "metadata": {},
     "output_type": "execute_result"
    }
   ],
   "source": [
    "thermostat_ob.store_synthetic_data()"
   ]
  },
  {
   "cell_type": "code",
   "execution_count": 15,
   "id": "f1f689d9",
   "metadata": {},
   "outputs": [
    {
     "data": {
      "text/html": [
       "<div>\n",
       "<style scoped>\n",
       "    .dataframe tbody tr th:only-of-type {\n",
       "        vertical-align: middle;\n",
       "    }\n",
       "\n",
       "    .dataframe tbody tr th {\n",
       "        vertical-align: top;\n",
       "    }\n",
       "\n",
       "    .dataframe thead th {\n",
       "        text-align: right;\n",
       "    }\n",
       "</style>\n",
       "<table border=\"1\" class=\"dataframe\">\n",
       "  <thead>\n",
       "    <tr style=\"text-align: right;\">\n",
       "      <th></th>\n",
       "      <th>ID</th>\n",
       "      <th>Relative_Humidity_Perc</th>\n",
       "      <th>Temperature_C</th>\n",
       "      <th>Outside_Temperature_C</th>\n",
       "    </tr>\n",
       "  </thead>\n",
       "  <tbody>\n",
       "    <tr>\n",
       "      <th>0</th>\n",
       "      <td>0</td>\n",
       "      <td>40</td>\n",
       "      <td>19.76</td>\n",
       "      <td>10.9</td>\n",
       "    </tr>\n",
       "    <tr>\n",
       "      <th>1</th>\n",
       "      <td>1</td>\n",
       "      <td>43</td>\n",
       "      <td>21.02</td>\n",
       "      <td>7.6</td>\n",
       "    </tr>\n",
       "    <tr>\n",
       "      <th>2</th>\n",
       "      <td>2</td>\n",
       "      <td>52</td>\n",
       "      <td>20.24</td>\n",
       "      <td>9.9</td>\n",
       "    </tr>\n",
       "    <tr>\n",
       "      <th>3</th>\n",
       "      <td>3</td>\n",
       "      <td>52</td>\n",
       "      <td>20.08</td>\n",
       "      <td>10.4</td>\n",
       "    </tr>\n",
       "    <tr>\n",
       "      <th>4</th>\n",
       "      <td>4</td>\n",
       "      <td>62</td>\n",
       "      <td>20.71</td>\n",
       "      <td>16.4</td>\n",
       "    </tr>\n",
       "    <tr>\n",
       "      <th>5</th>\n",
       "      <td>5</td>\n",
       "      <td>61</td>\n",
       "      <td>20.55</td>\n",
       "      <td>19.9</td>\n",
       "    </tr>\n",
       "    <tr>\n",
       "      <th>6</th>\n",
       "      <td>6</td>\n",
       "      <td>61</td>\n",
       "      <td>20.39</td>\n",
       "      <td>18.1</td>\n",
       "    </tr>\n",
       "    <tr>\n",
       "      <th>7</th>\n",
       "      <td>7</td>\n",
       "      <td>60</td>\n",
       "      <td>20.39</td>\n",
       "      <td>17.0</td>\n",
       "    </tr>\n",
       "    <tr>\n",
       "      <th>8</th>\n",
       "      <td>8</td>\n",
       "      <td>52</td>\n",
       "      <td>20.55</td>\n",
       "      <td>20.3</td>\n",
       "    </tr>\n",
       "  </tbody>\n",
       "</table>\n",
       "</div>"
      ],
      "text/plain": [
       "   ID  Relative_Humidity_Perc  Temperature_C  Outside_Temperature_C\n",
       "0   0                      40          19.76                   10.9\n",
       "1   1                      43          21.02                    7.6\n",
       "2   2                      52          20.24                    9.9\n",
       "3   3                      52          20.08                   10.4\n",
       "4   4                      62          20.71                   16.4\n",
       "5   5                      61          20.55                   19.9\n",
       "6   6                      61          20.39                   18.1\n",
       "7   7                      60          20.39                   17.0\n",
       "8   8                      52          20.55                   20.3"
      ]
     },
     "execution_count": 15,
     "metadata": {},
     "output_type": "execute_result"
    }
   ],
   "source": [
    "thermostat_ob.df_thermostat.head(10)"
   ]
  },
  {
   "cell_type": "code",
   "execution_count": 16,
   "id": "0c6262e3",
   "metadata": {},
   "outputs": [
    {
     "data": {
      "text/html": [
       "<div>\n",
       "<style scoped>\n",
       "    .dataframe tbody tr th:only-of-type {\n",
       "        vertical-align: middle;\n",
       "    }\n",
       "\n",
       "    .dataframe tbody tr th {\n",
       "        vertical-align: top;\n",
       "    }\n",
       "\n",
       "    .dataframe thead th {\n",
       "        text-align: right;\n",
       "    }\n",
       "</style>\n",
       "<table border=\"1\" class=\"dataframe\">\n",
       "  <thead>\n",
       "    <tr style=\"text-align: right;\">\n",
       "      <th></th>\n",
       "      <th>ID</th>\n",
       "      <th>Relative_Humidity_Perc</th>\n",
       "      <th>Temperature_C</th>\n",
       "      <th>Outside_Temperature_C</th>\n",
       "    </tr>\n",
       "  </thead>\n",
       "  <tbody>\n",
       "    <tr>\n",
       "      <th>0</th>\n",
       "      <td>0</td>\n",
       "      <td>62</td>\n",
       "      <td>20.824400</td>\n",
       "      <td>14.735118</td>\n",
       "    </tr>\n",
       "    <tr>\n",
       "      <th>1</th>\n",
       "      <td>1</td>\n",
       "      <td>54</td>\n",
       "      <td>20.513181</td>\n",
       "      <td>20.300000</td>\n",
       "    </tr>\n",
       "    <tr>\n",
       "      <th>2</th>\n",
       "      <td>2</td>\n",
       "      <td>61</td>\n",
       "      <td>20.584632</td>\n",
       "      <td>20.300000</td>\n",
       "    </tr>\n",
       "    <tr>\n",
       "      <th>3</th>\n",
       "      <td>3</td>\n",
       "      <td>54</td>\n",
       "      <td>20.544655</td>\n",
       "      <td>12.059962</td>\n",
       "    </tr>\n",
       "    <tr>\n",
       "      <th>4</th>\n",
       "      <td>4</td>\n",
       "      <td>59</td>\n",
       "      <td>20.084853</td>\n",
       "      <td>20.300000</td>\n",
       "    </tr>\n",
       "    <tr>\n",
       "      <th>5</th>\n",
       "      <td>5</td>\n",
       "      <td>50</td>\n",
       "      <td>20.344496</td>\n",
       "      <td>12.198275</td>\n",
       "    </tr>\n",
       "    <tr>\n",
       "      <th>6</th>\n",
       "      <td>6</td>\n",
       "      <td>48</td>\n",
       "      <td>19.934253</td>\n",
       "      <td>13.482506</td>\n",
       "    </tr>\n",
       "    <tr>\n",
       "      <th>7</th>\n",
       "      <td>7</td>\n",
       "      <td>55</td>\n",
       "      <td>20.787241</td>\n",
       "      <td>15.200860</td>\n",
       "    </tr>\n",
       "    <tr>\n",
       "      <th>8</th>\n",
       "      <td>8</td>\n",
       "      <td>40</td>\n",
       "      <td>20.229508</td>\n",
       "      <td>14.027327</td>\n",
       "    </tr>\n",
       "    <tr>\n",
       "      <th>9</th>\n",
       "      <td>9</td>\n",
       "      <td>62</td>\n",
       "      <td>20.131321</td>\n",
       "      <td>20.300000</td>\n",
       "    </tr>\n",
       "  </tbody>\n",
       "</table>\n",
       "</div>"
      ],
      "text/plain": [
       "   ID  Relative_Humidity_Perc  Temperature_C  Outside_Temperature_C\n",
       "0   0                      62      20.824400              14.735118\n",
       "1   1                      54      20.513181              20.300000\n",
       "2   2                      61      20.584632              20.300000\n",
       "3   3                      54      20.544655              12.059962\n",
       "4   4                      59      20.084853              20.300000\n",
       "5   5                      50      20.344496              12.198275\n",
       "6   6                      48      19.934253              13.482506\n",
       "7   7                      55      20.787241              15.200860\n",
       "8   8                      40      20.229508              14.027327\n",
       "9   9                      62      20.131321              20.300000"
      ]
     },
     "execution_count": 16,
     "metadata": {},
     "output_type": "execute_result"
    }
   ],
   "source": [
    "thermostat_ob.df_synthetic_thermostat.head(10)"
   ]
  },
  {
   "cell_type": "code",
   "execution_count": 17,
   "id": "ade3ced6",
   "metadata": {},
   "outputs": [],
   "source": [
    "thermostat_ob.generate_synthetic_data(1000)"
   ]
  },
  {
   "cell_type": "code",
   "execution_count": 18,
   "id": "6abea2b3",
   "metadata": {},
   "outputs": [
    {
     "data": {
      "text/plain": [
       "'Thermostat 2.xlsx'"
      ]
     },
     "execution_count": 18,
     "metadata": {},
     "output_type": "execute_result"
    }
   ],
   "source": [
    "thermostat_ob.store_synthetic_data()"
   ]
  },
  {
   "cell_type": "code",
   "execution_count": 19,
   "id": "e143c3ef",
   "metadata": {},
   "outputs": [],
   "source": [
    "thermostat_ob.generate_synthetic_data(1000)"
   ]
  },
  {
   "cell_type": "code",
   "execution_count": 20,
   "id": "57742ed0",
   "metadata": {},
   "outputs": [
    {
     "data": {
      "text/plain": [
       "'Thermostat 3.xlsx'"
      ]
     },
     "execution_count": 20,
     "metadata": {},
     "output_type": "execute_result"
    }
   ],
   "source": [
    "thermostat_ob.store_synthetic_data()"
   ]
  },
  {
   "cell_type": "code",
   "execution_count": null,
   "id": "2fb29823",
   "metadata": {},
   "outputs": [],
   "source": []
  }
 ],
 "metadata": {
  "kernelspec": {
   "display_name": "Python 3 (ipykernel)",
   "language": "python",
   "name": "python3"
  },
  "language_info": {
   "codemirror_mode": {
    "name": "ipython",
    "version": 3
   },
   "file_extension": ".py",
   "mimetype": "text/x-python",
   "name": "python",
   "nbconvert_exporter": "python",
   "pygments_lexer": "ipython3",
   "version": "3.9.12"
  }
 },
 "nbformat": 4,
 "nbformat_minor": 5
}
